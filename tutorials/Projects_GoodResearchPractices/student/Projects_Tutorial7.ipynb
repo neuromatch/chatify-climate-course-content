{
 "cells": [
  {
   "cell_type": "markdown",
   "metadata": {
    "execution": {}
   },
   "source": [
    "[![Open In Colab](https://colab.research.google.com/assets/colab-badge.svg)](https://colab.research.google.com/github/neuromatch/chatify-climate-course-content/blob/main/tutorials/Projects_GoodResearchPractices/student/Projects_Tutorial7.ipynb) &nbsp; <a href=\"https://kaggle.com/kernels/welcome?src=https://raw.githubusercontent.com/neuromatch/chatify-climate-course-content/main/tutorials/Projects_GoodResearchPractices/student/Projects_Tutorial7.ipynb\" target=\"_parent\"><img src=\"https://kaggle.com/static/images/open-in-kaggle.svg\" alt=\"Open in Kaggle\"/></a>"
   ]
  },
  {
   "cell_type": "markdown",
   "metadata": {
    "execution": {}
   },
   "source": [
    "# Tutorial 7: Interpreting the Results\n",
    "\n",
    "**Good Research Practices**\n",
    "\n",
    "**Content creators:**  Samuel Akpan, Marguerite Brown, Zane Mitrevica, Natalie Steinemann, Yuxin Zhou\n",
    "\n",
    "**Content reviewers:**  Katrina Dobson, Sloane Garelick, Maria Gonzalez, Nahid Hasan, Paul Heubel, Sherry Mi, Beatriz Cosenza Muralles, Cheng Zhang\n",
    "\n",
    "**Content editors:** Jenna Pearson, Chi Zhang, Ohad Zivan\n",
    "\n",
    "**Production editors:** Wesley Banfield, Paul Heubel, Jenna Pearson, Konstantine Tsafatinos, Chi Zhang, Ohad Zivan\n",
    "\n",
    "**Our 2024 Sponsors:** CMIP, NFDI4Earth"
   ]
  },
  {
   "cell_type": "markdown",
   "metadata": {
    "execution": {}
   },
   "source": [
    "# Tutorials Objectives\n",
    "\n",
    "In Tutorials 5-8, you will learn about the research process. This includes how to\n",
    "\n",
    "5.   Draft analyses of data to test a hypothesis\n",
    "6.   Implement analysis of data\n",
    "7.   Interpret results in the context of existing knowledge\n",
    "8.   Communicate your results and conclusions\n",
    "\n",
    "By the end of these tutorials you will be able to:\n",
    "\n",
    "*   Understand the principles of good research practices\n",
    "*   Learn to view a scientific data set or question through the lens of equity: Who is represented by this data and who is not? Who has access to this information? Who is in a position to use it?"
   ]
  },
  {
   "cell_type": "code",
   "execution_count": null,
   "metadata": {
    "cellView": "form",
    "execution": {}
   },
   "outputs": [],
   "source": [
    "# @title Video 1: Interpreting the Results\n",
    "\n",
    "from ipywidgets import widgets\n",
    "from IPython.display import YouTubeVideo\n",
    "from IPython.display import IFrame\n",
    "from IPython.display import display\n",
    "\n",
    "\n",
    "class PlayVideo(IFrame):\n",
    "  def __init__(self, id, source, page=1, width=400, height=300, **kwargs):\n",
    "    self.id = id\n",
    "    if source == 'Bilibili':\n",
    "      src = f'https://player.bilibili.com/player.html?bvid={id}&page={page}'\n",
    "    elif source == 'Osf':\n",
    "      src = f'https://mfr.ca-1.osf.io/render?url=https://osf.io/download/{id}/?direct%26mode=render'\n",
    "    super(PlayVideo, self).__init__(src, width, height, **kwargs)\n",
    "\n",
    "\n",
    "def display_videos(video_ids, W=400, H=300, fs=1):\n",
    "  tab_contents = []\n",
    "  for i, video_id in enumerate(video_ids):\n",
    "    out = widgets.Output()\n",
    "    with out:\n",
    "      if video_ids[i][0] == 'Youtube':\n",
    "        video = YouTubeVideo(id=video_ids[i][1], width=W,\n",
    "                             height=H, fs=fs, rel=0)\n",
    "        print(f'Video available at https://youtube.com/watch?v={video.id}')\n",
    "      else:\n",
    "        video = PlayVideo(id=video_ids[i][1], source=video_ids[i][0], width=W,\n",
    "                          height=H, fs=fs, autoplay=False)\n",
    "        if video_ids[i][0] == 'Bilibili':\n",
    "          print(f'Video available at https://www.bilibili.com/video/{video.id}')\n",
    "        elif video_ids[i][0] == 'Osf':\n",
    "          print(f'Video available at https://osf.io/{video.id}')\n",
    "      display(video)\n",
    "    tab_contents.append(out)\n",
    "  return tab_contents\n",
    "\n",
    "\n",
    "video_ids = [('Youtube', 'yswUuHU3Y_Y'), ('Bilibili', 'BV1h94y1B7xi')]\n",
    "tab_contents = display_videos(video_ids, W=730, H=410)\n",
    "tabs = widgets.Tab()\n",
    "tabs.children = tab_contents\n",
    "for i in range(len(tab_contents)):\n",
    "  tabs.set_title(i, video_ids[i][0])\n",
    "display(tabs)"
   ]
  },
  {
   "cell_type": "code",
   "execution_count": null,
   "metadata": {
    "cellView": "form",
    "execution": {}
   },
   "outputs": [],
   "source": [
    "# @title Tutorial slides\n",
    "# @markdown These are the slides for the videos in all tutorials today\n",
    "from IPython.display import IFrame\n",
    "link_id = \"yje9x\"\n",
    "\n",
    "print(f\"If you want to download the slides: https://osf.io/download/{link_id}/\")\n",
    "IFrame(src=f\"https://mfr.ca-1.osf.io/render?url=https://osf.io/{link_id}/?direct%26mode=render%26action=download%26mode=render\", width=854, height=480)"
   ]
  },
  {
   "cell_type": "markdown",
   "metadata": {
    "execution": {}
   },
   "source": [
    "In Step 6, we created plots displaying the global CO<sub>2</sub> levels and sea surface temperature data spanning the past 800 thousand years. Additionally, we attempted to fit both variables using a linear regression model. Nevertheless, it is crucial to bear in mind that correlation does not imply causation. The fact that global CO<sub>2</sub> and sea surface temperature appear to co-vary does not automatically imply that one variable directly causes changes in the other. To establish causation, it is imperative to gather multiple lines of evidence. This underscores the importance of literature review in Step 2, as it aids in identifying corroborating evidence in climate research."
   ]
  },
  {
   "cell_type": "markdown",
   "metadata": {
    "execution": {}
   },
   "source": [
    "# Quantifying the Uncertainty\n",
    "<details>\n",
    "<summary>Click here for some information</summary>\n",
    "Look up \"linear regression model R squared\" and how it measures the uncertainty of a linear regression model. What does it say about how confident you can be about a linear relationship between CO<sub>2</sub> and temperature?\n",
    "</details>"
   ]
  },
  {
   "cell_type": "markdown",
   "metadata": {
    "execution": {}
   },
   "source": [
    "# Activity: Interpreting the Results Through the Lens of Equity\n",
    "For the next 10 minutes, discuss what the results capture well in terms of the relationship between CO<sub>2</sub> and temperature. Who is represented by this data, specifically the compiled temperature record, and who is not? Who generated these data? Who has access to this information? Who is in a position to use it?"
   ]
  },
  {
   "cell_type": "markdown",
   "metadata": {
    "execution": {}
   },
   "source": [
    "# Further readings\n",
    "<details>\n",
    "<summary>Click here for more readings on Interpreting the Results through the lens of equity</summary>\n",
    "\n",
    "Donovan, R. (2023), Climate journalism needs voices from the Global South, Eos, 104, [https://doi.org/10.1029/2023EO230085](https://doi.org/10.1029/2023EO230085)\n",
    "\n",
    "Tandon, A. (2021), Analysis: The lack of diversity in climate-science research, Carbon Brief, [https://www.carbonbrief.org/analysis-the-lack-of-diversity-in-climate-science-research/](https://www.carbonbrief.org/analysis-the-lack-of-diversity-in-climate-science-research/)\n",
    "</details>"
   ]
  },
  {
   "cell_type": "markdown",
   "metadata": {
    "execution": {}
   },
   "source": [
    "**⚠ Experimental LLM-enhanced tutorial ⚠**\n",
    "\n",
    "This notebook includes [Neuromatch](https://neuromatch.io/)'s experimental [Chatify](https://github.com/ContextLab/chatify) 🤖 functionality. The Chatify notebook extension adds support for a large language model-based \"coding tutor\" to the course materials. The tutor provides automatically generated text to help explain any code cell in this notebook.\n",
    "\n",
    "Note that using Chatify may cause breaking changes and/or provide incorrect or misleading information. If you wish to proceed by installing and enabling the Chatify extension, you should run the next two code blocks (hidden by default). If you do *not* want to use this experimental version of the Neuromatch materials, please use the [stable](https://neuromatch.io/courses/) materials instead.\n",
    "\n",
    "To use the Chatify helper, insert the `%%explain` magic command at the start of any code cell and then run it (shift + enter) to access an interface for receiving LLM-based assitance. You can then select different options from the dropdown menus depending on what sort of assitance you want.  Press the `Submit` button to generate a response.  To disable Chatify and run the code block as usual, simply delete the `%%explain` command and re-run the cell.\n",
    "\n",
    "Thanks for giving Chatify a try! Love it? Hate it? Either way, we'd love to hear from you about your Chatify experience!  Please consider filling out our [brief survey](https://forms.gle/T7krruc2LURX1gmf6) to provide feedback and help us make Chatify more awesome!\n",
    "\n",
    "**Run the next two cells to install and configure Chatify...**\n"
   ]
  },
  {
   "cell_type": "code",
   "execution_count": null,
   "metadata": {
    "cellView": "form",
    "execution": {}
   },
   "outputs": [],
   "source": [
    "%pip install -q davos\n",
    "import davos\n",
    "davos.config.suppress_stdout = True"
   ]
  },
  {
   "cell_type": "code",
   "execution_count": null,
   "metadata": {
    "cellView": "form",
    "execution": {}
   },
   "outputs": [],
   "source": [
    "smuggle chatify      # pip: git+https://github.com/ContextLab/chatify.git\n",
    "%load_ext chatify"
   ]
  }
 ],
 "metadata": {
  "colab": {
   "collapsed_sections": [],
   "include_colab_link": true,
   "name": "Projects_Tutorial7",
   "provenance": [
    {
     "file_id": "108RRAFBnnKvDTfEDC0Fm5qHZez32HB69",
     "timestamp": 1680091091012
    },
    {
     "file_id": "1WfT8oN22xywtecNriLptqi1SuGUSoIlc",
     "timestamp": 1680037587733
    }
   ],
   "toc_visible": true
  },
  "kernel": {
   "display_name": "Python 3",
   "language": "python",
   "name": "python3"
  },
  "kernelspec": {
   "display_name": "Python 3 (ipykernel)",
   "language": "python",
   "name": "python3"
  },
  "language_info": {
   "codemirror_mode": {
    "name": "ipython",
    "version": 3
   },
   "file_extension": ".py",
   "mimetype": "text/x-python",
   "name": "python",
   "nbconvert_exporter": "python",
   "pygments_lexer": "ipython3",
   "version": "3.9.19"
  }
 },
 "nbformat": 4,
 "nbformat_minor": 4
}
